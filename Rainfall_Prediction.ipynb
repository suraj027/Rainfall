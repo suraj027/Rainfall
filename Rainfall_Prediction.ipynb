{
 "cells": [
  {
   "cell_type": "code",
   "execution_count": 1,
   "metadata": {},
   "outputs": [
    {
     "ename": "ModuleNotFoundError",
     "evalue": "No module named '_tkinter'",
     "output_type": "error",
     "traceback": [
      "\u001b[0;31m---------------------------------------------------------------------------\u001b[0m",
      "\u001b[0;31mModuleNotFoundError\u001b[0m                       Traceback (most recent call last)",
      "Cell \u001b[0;32mIn[1], line 1\u001b[0m\n\u001b[0;32m----> 1\u001b[0m \u001b[38;5;28;01mimport\u001b[39;00m \u001b[38;5;21;01mtkinter\u001b[39;00m \u001b[38;5;28;01mas\u001b[39;00m \u001b[38;5;21;01mtk\u001b[39;00m\n\u001b[1;32m      2\u001b[0m \u001b[38;5;28;01mfrom\u001b[39;00m \u001b[38;5;21;01mtkinter\u001b[39;00m \u001b[38;5;28;01mimport\u001b[39;00m ttk\n\u001b[1;32m      3\u001b[0m \u001b[38;5;28;01mimport\u001b[39;00m \u001b[38;5;21;01mpandas\u001b[39;00m \u001b[38;5;28;01mas\u001b[39;00m \u001b[38;5;21;01mpd\u001b[39;00m\n",
      "File \u001b[0;32m/opt/homebrew/Cellar/python@3.11/3.11.6_1/Frameworks/Python.framework/Versions/3.11/lib/python3.11/tkinter/__init__.py:38\u001b[0m\n\u001b[1;32m     35\u001b[0m \u001b[38;5;28;01mimport\u001b[39;00m \u001b[38;5;21;01msys\u001b[39;00m\n\u001b[1;32m     36\u001b[0m \u001b[38;5;28;01mimport\u001b[39;00m \u001b[38;5;21;01mtypes\u001b[39;00m\n\u001b[0;32m---> 38\u001b[0m \u001b[38;5;28;01mimport\u001b[39;00m \u001b[38;5;21;01m_tkinter\u001b[39;00m \u001b[38;5;66;03m# If this fails your Python may not be configured for Tk\u001b[39;00m\n\u001b[1;32m     39\u001b[0m TclError \u001b[38;5;241m=\u001b[39m _tkinter\u001b[38;5;241m.\u001b[39mTclError\n\u001b[1;32m     40\u001b[0m \u001b[38;5;28;01mfrom\u001b[39;00m \u001b[38;5;21;01mtkinter\u001b[39;00m\u001b[38;5;21;01m.\u001b[39;00m\u001b[38;5;21;01mconstants\u001b[39;00m \u001b[38;5;28;01mimport\u001b[39;00m \u001b[38;5;241m*\u001b[39m\n",
      "\u001b[0;31mModuleNotFoundError\u001b[0m: No module named '_tkinter'"
     ]
    }
   ],
   "source": [
    "import tkinter as tk\n",
    "from tkinter import ttk\n",
    "import pandas as pd\n",
    "from sklearn.linear_model import LinearRegression\n",
    "from sklearn.model_selection import train_test_split\n"
   ]
  },
  {
   "cell_type": "code",
   "execution_count": null,
   "metadata": {},
   "outputs": [
    {
     "ename": "",
     "evalue": "",
     "output_type": "error",
     "traceback": [
      "\u001b[1;31mRunning cells with '/Users/surajsatheesh/.pyenv/versions/3.12.0/bin/python' requires the ipykernel package.\n",
      "\u001b[1;31mRun the following command to install 'ipykernel' into the Python environment. \n",
      "\u001b[1;31mCommand: '/Users/surajsatheesh/.pyenv/versions/3.12.0/bin/python -m pip install ipykernel -U --force-reinstall'"
     ]
    }
   ],
   "source": [
    "# Read the original dataset\n",
    "data = pd.read_csv(\"/Users/surajsatheesh/MCA/First Semester/Data Mining/Rainfall Predicition Project/Thiruvananthapuram_weather.csv\")\n"
   ]
  },
  {
   "cell_type": "code",
   "execution_count": null,
   "metadata": {},
   "outputs": [
    {
     "ename": "",
     "evalue": "",
     "output_type": "error",
     "traceback": [
      "\u001b[1;31mRunning cells with '/Users/surajsatheesh/.pyenv/versions/3.12.0/bin/python' requires the ipykernel package.\n",
      "\u001b[1;31mRun the following command to install 'ipykernel' into the Python environment. \n",
      "\u001b[1;31mCommand: '/Users/surajsatheesh/.pyenv/versions/3.12.0/bin/python -m pip install ipykernel -U --force-reinstall'"
     ]
    }
   ],
   "source": [
    "data"
   ]
  },
  {
   "cell_type": "code",
   "execution_count": null,
   "metadata": {},
   "outputs": [
    {
     "ename": "",
     "evalue": "",
     "output_type": "error",
     "traceback": [
      "\u001b[1;31mRunning cells with '/Users/surajsatheesh/.pyenv/versions/3.12.0/bin/python' requires the ipykernel package.\n",
      "\u001b[1;31mRun the following command to install 'ipykernel' into the Python environment. \n",
      "\u001b[1;31mCommand: '/Users/surajsatheesh/.pyenv/versions/3.12.0/bin/python -m pip install ipykernel -U --force-reinstall'"
     ]
    }
   ],
   "source": [
    "# Cleaning the dataset\n",
    "data = data.drop([\"Events\", \"SeaLevelPressureHighInches\", \"SeaLevelPressureLowInches\"], axis=1)\n",
    "data = data.replace(\"T\", 0.0)\n",
    "data = data.replace(\"-\", 0.0)\n",
    "\n",
    "# Convert 'Date' column to datetime format\n",
    "data['Date'] = pd.to_datetime(data['Date'], format='%d/%m/%y')\n",
    "\n",
    "# Set the 'Date' column as the index\n",
    "data.set_index('Date', inplace=True)\n"
   ]
  },
  {
   "cell_type": "code",
   "execution_count": null,
   "metadata": {},
   "outputs": [
    {
     "ename": "",
     "evalue": "",
     "output_type": "error",
     "traceback": [
      "\u001b[1;31mRunning cells with '/Users/surajsatheesh/.pyenv/versions/3.12.0/bin/python' requires the ipykernel package.\n",
      "\u001b[1;31mRun the following command to install 'ipykernel' into the Python environment. \n",
      "\u001b[1;31mCommand: '/Users/surajsatheesh/.pyenv/versions/3.12.0/bin/python -m pip install ipykernel -U --force-reinstall'"
     ]
    }
   ],
   "source": [
    "data"
   ]
  },
  {
   "cell_type": "code",
   "execution_count": null,
   "metadata": {},
   "outputs": [
    {
     "ename": "",
     "evalue": "",
     "output_type": "error",
     "traceback": [
      "\u001b[1;31mRunning cells with '/Users/surajsatheesh/.pyenv/versions/3.12.0/bin/python' requires the ipykernel package.\n",
      "\u001b[1;31mRun the following command to install 'ipykernel' into the Python environment. \n",
      "\u001b[1;31mCommand: '/Users/surajsatheesh/.pyenv/versions/3.12.0/bin/python -m pip install ipykernel -U --force-reinstall'"
     ]
    }
   ],
   "source": [
    "X = data.drop(['PrecipitationSumInches'], axis=1)\n",
    "Y = data['PrecipitationSumInches']\n",
    "\n",
    "# Split the data into training and testing sets\n",
    "X_train, X_test, y_train, y_test = train_test_split(X, Y, test_size=0.2, random_state=42)\n",
    "# Create and fit the linear regression model\n",
    "clf = LinearRegression()\n",
    "clf.fit(X_train, y_train)\n"
   ]
  },
  {
   "cell_type": "code",
   "execution_count": null,
   "metadata": {},
   "outputs": [
    {
     "ename": "",
     "evalue": "",
     "output_type": "error",
     "traceback": [
      "\u001b[1;31mRunning cells with '/Users/surajsatheesh/.pyenv/versions/3.12.0/bin/python' requires the ipykernel package.\n",
      "\u001b[1;31mRun the following command to install 'ipykernel' into the Python environment. \n",
      "\u001b[1;31mCommand: '/Users/surajsatheesh/.pyenv/versions/3.12.0/bin/python -m pip install ipykernel -U --force-reinstall'"
     ]
    }
   ],
   "source": [
    "import matplotlib.pyplot as plt\n",
    "\n",
    "# Predict the rainfall for the entire dataset\n",
    "y_pred = clf.predict(X)\n",
    "\n",
    "# Create a DataFrame for visualization\n",
    "result_df = pd.DataFrame({'Actual': Y, 'Predicted': y_pred})\n",
    "\n",
    "# Sort the DataFrame based on the index (date)\n",
    "result_df = result_df.sort_index()\n",
    "\n",
    "# Plotting the line graph\n",
    "plt.figure(figsize=(12, 6))\n",
    "plt.plot(result_df.index, result_df['Actual'], label='Actual Rainfall', marker='o')\n",
    "plt.plot(result_df.index, result_df['Predicted'], label='Predicted Rainfall', marker='o')\n",
    "plt.title('Actual vs Predicted Rainfall Over Time')\n",
    "plt.xlabel('Date')\n",
    "plt.ylabel('Rainfall (inches)')\n",
    "plt.legend()\n",
    "plt.show()\n"
   ]
  },
  {
   "cell_type": "code",
   "execution_count": null,
   "metadata": {},
   "outputs": [
    {
     "ename": "",
     "evalue": "",
     "output_type": "error",
     "traceback": [
      "\u001b[1;31mRunning cells with '/Users/surajsatheesh/.pyenv/versions/3.12.0/bin/python' requires the ipykernel package.\n",
      "\u001b[1;31mRun the following command to install 'ipykernel' into the Python environment. \n",
      "\u001b[1;31mCommand: '/Users/surajsatheesh/.pyenv/versions/3.12.0/bin/python -m pip install ipykernel -U --force-reinstall'"
     ]
    }
   ],
   "source": [
    "# Function to predict precipitation for the given day\n",
    "def predict_precipitation():\n",
    "    try:\n",
    "        day_value = int(day_input.get())\n",
    "        year_value = int(year_input.get())\n",
    "        month_value = int(month_var.get())\n",
    "\n",
    "        # Create a new date using the entered day, month, and year\n",
    "        input_date = pd.Timestamp(year=year_value, month=month_value, day=day_value)\n",
    "\n",
    "        # Check if the input date is beyond the last date in the dataset\n",
    "        if input_date > X.index.max():\n",
    "            result_label.config(text=f'Predicting for future dates: The selected date is beyond the last date in the dataset.')\n",
    "\n",
    "        else:\n",
    "            # Find the corresponding row for the entered date\n",
    "            input_values = X.loc[[input_date]]\n",
    "\n",
    "            if not input_values.empty:\n",
    "                precipitation_prediction = clf.predict(input_values)\n",
    "\n",
    "                result_label.config(text=f'Predicted Precipitation for {input_date.date()}: {precipitation_prediction[0]:.2f} inches')\n",
    "\n",
    "            else:\n",
    "                result_label.config(text=f'Invalid date. Please enter a valid date.')\n",
    "                return None\n",
    "\n",
    "    except ValueError as e:\n",
    "        result_label.config(text=f'Error: {str(e)}')\n",
    "        return None\n",
    "    "
   ]
  },
  {
   "cell_type": "code",
   "execution_count": null,
   "metadata": {},
   "outputs": [
    {
     "ename": "",
     "evalue": "",
     "output_type": "error",
     "traceback": [
      "\u001b[1;31mRunning cells with '/Users/surajsatheesh/.pyenv/versions/3.12.0/bin/python' requires the ipykernel package.\n",
      "\u001b[1;31mRun the following command to install 'ipykernel' into the Python environment. \n",
      "\u001b[1;31mCommand: '/Users/surajsatheesh/.pyenv/versions/3.12.0/bin/python -m pip install ipykernel -U --force-reinstall'"
     ]
    }
   ],
   "source": [
    "# Calculate R-squared score\n",
    "from sklearn.metrics import r2_score\n",
    "r2 = r2_score(Y, clf.predict(X))\n",
    "print(f'R-squared Score: {r2:.2f}')\n"
   ]
  },
  {
   "cell_type": "code",
   "execution_count": null,
   "metadata": {},
   "outputs": [
    {
     "ename": "",
     "evalue": "",
     "output_type": "error",
     "traceback": [
      "\u001b[1;31mRunning cells with '/Users/surajsatheesh/.pyenv/versions/3.12.0/bin/python' requires the ipykernel package.\n",
      "\u001b[1;31mRun the following command to install 'ipykernel' into the Python environment. \n",
      "\u001b[1;31mCommand: '/Users/surajsatheesh/.pyenv/versions/3.12.0/bin/python -m pip install ipykernel -U --force-reinstall'"
     ]
    }
   ],
   "source": [
    "# Create the main window\n",
    "root = tk.Tk()\n",
    "root.title(\"Rainfall Prediction Thiruvananthapuram\")\n",
    "\n",
    "# Create input labels and entry widgets for day, month, and year\n",
    "day_label = ttk.Label(root, text=\"Enter Day for rainfall prediction\")\n",
    "day_label.grid(column=0, row=0, padx=10, pady=5, sticky=tk.W)\n",
    "day_input = ttk.Entry(root)\n",
    "day_input.grid(column=1, row=0, padx=10, pady=5)\n",
    "\n",
    "month_label = ttk.Label(root, text=\"Enter Month (MM)\")\n",
    "month_label.grid(column=0, row=1, padx=10, pady=5, sticky=tk.W)\n",
    "month_var = tk.StringVar()\n",
    "month_input = ttk.Combobox(root, textvariable=month_var, values=[str(i).zfill(2) for i in range(1, 13)])\n",
    "month_input.grid(column=1, row=1, padx=10, pady=5)\n",
    "month_input.set(\"01\")\n",
    "\n",
    "year_label = ttk.Label(root, text=\"Enter Year\")\n",
    "year_label.grid(column=0, row=2, padx=10, pady=5, sticky=tk.W)\n",
    "year_input = ttk.Entry(root)\n",
    "year_input.grid(column=1, row=2, padx=10, pady=5)\n",
    "\n",
    "# Create a button to trigger the prediction\n",
    "predict_button = ttk.Button(root, text=\"Predict Precipitation\", command=predict_precipitation)\n",
    "predict_button.grid(column=0, row=3, columnspan=2, pady=10)\n",
    "\n",
    "# Create a label to display the prediction result\n",
    "result_label = ttk.Label(root, text=\"\")\n",
    "result_label.grid(column=0, row=4, columnspan=2, pady=10)\n",
    "\n",
    "# Start the main event loop\n",
    "root.mainloop()\n"
   ]
  }
 ],
 "metadata": {
  "kernelspec": {
   "display_name": "Python 3",
   "language": "python",
   "name": "python3"
  },
  "language_info": {
   "codemirror_mode": {
    "name": "ipython",
    "version": 3
   },
   "file_extension": ".py",
   "mimetype": "text/x-python",
   "name": "python",
   "nbconvert_exporter": "python",
   "pygments_lexer": "ipython3",
   "version": "3.0.0"
  }
 },
 "nbformat": 4,
 "nbformat_minor": 2
}
